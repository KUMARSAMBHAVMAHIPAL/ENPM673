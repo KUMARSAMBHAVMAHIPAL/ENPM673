{
 "cells": [
  {
   "cell_type": "code",
   "execution_count": 4,
   "metadata": {},
   "outputs": [],
   "source": [
    "import cv2\n",
    "import numpy as np"
   ]
  },
  {
   "cell_type": "code",
   "execution_count": null,
   "metadata": {},
   "outputs": [],
   "source": [
    "raw_image = cv2.imread('./data/data_1/0000000000.png')\n",
    "median = cv2.medianBlur(raw_image, 5)\n",
    "sharp_image = np.array(cv2.addWeighted(raw_image,2, median, -1, 0 ))\n",
    "gray = cv2.cvtColor(raw_image,cv2.COLOR_BGR2GRAY)\n",
    "edges = cv2.Canny(gray,20,255)\n",
    "# cv2.imshow(\"image\",edges)\n",
    "lines = cv2.HoughLines(edges, 1, np.pi*4/5, 50, None, 50, 10)\n",
    "# linesP = cv2.HoughLinesP(edges, 1, np.pi / 180, 50, None, 50, 10)\n",
    "print(linesP)\n",
    "for rho,theta in lines[0]:\n",
    "    a = np.cos(theta)\n",
    "    b = np.sin(theta)\n",
    "    x0 = a*rho\n",
    "    y0 = b*rho\n",
    "    x1 = int(x0 + 1000*(-b))\n",
    "    y1 = int(y0 + 1000*(a))\n",
    "    x2 = int(x0 - 1000*(-b))\n",
    "    y2 = int(y0 - 1000*(a))\n",
    "\n",
    "    cv2.line(raw_image,(x1,y1),(x2,y2),(0,0,255),2)\n",
    "# cv2.imshow(\"image 1\", sharp_image)\n",
    "cv2.imshow(\"image 2\", raw_image)\n",
    "while 1:\n",
    "    if cv2.waitKey(25) & 0xFF == ord('q'):\n",
    "        break\n",
    "cv2.destroyAllWindows()"
   ]
  },
  {
   "cell_type": "code",
   "execution_count": null,
   "metadata": {},
   "outputs": [],
   "source": []
  },
  {
   "cell_type": "code",
   "execution_count": null,
   "metadata": {},
   "outputs": [],
   "source": []
  }
 ],
 "metadata": {
  "kernelspec": {
   "display_name": "Python 3",
   "language": "python",
   "name": "python3"
  },
  "language_info": {
   "codemirror_mode": {
    "name": "ipython",
    "version": 3
   },
   "file_extension": ".py",
   "mimetype": "text/x-python",
   "name": "python",
   "nbconvert_exporter": "python",
   "pygments_lexer": "ipython3",
   "version": "3.7.4"
  }
 },
 "nbformat": 4,
 "nbformat_minor": 2
}
